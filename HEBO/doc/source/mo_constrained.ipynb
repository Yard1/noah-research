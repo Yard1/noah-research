{
 "cells": [
  {
   "cell_type": "markdown",
   "metadata": {},
   "source": [
    "# Advanced optimisation\n",
    "\n",
    "In this section, we show how HEBO can be used for constrained and multi-objective optimisation\n",
    "\n",
    "$$\n",
    "\\begin{array}{lll}\n",
    "\\text{minimize} && (f_1(x), \\dots, f_m(x)) \\\\\n",
    "\\text{s.t.}     && c_1(x) < 0 \\\\\n",
    "        ~       && c_2(x) < 0 \\\\\n",
    "                && \\dots \\\\\n",
    "                && c_n(x) < 0\n",
    "\\end{array}\n",
    "$$"
   ]
  },
  {
   "cell_type": "markdown",
   "metadata": {},
   "source": [
    "## Objective function\n",
    "\n",
    "We use benchmark functions from pymoo "
   ]
  },
  {
   "cell_type": "code",
   "execution_count": 1,
   "metadata": {},
   "outputs": [
    {
     "data": {
      "image/png": "[encoded data removed]",
      "text/plain": [
       "<Figure size 432x288 with 1 Axes>"
      ]
     },
     "metadata": {
      "needs_background": "light"
     },
     "output_type": "display_data"
    }
   ],
   "source": [
    "import numpy as np\n",
    "import torch\n",
    "import pandas as pd\n",
    "import matplotlib.pyplot as plt\n",
    "from pymoo.factory import get_problem\n",
    "from pymoo.util.plotting import plot\n",
    "from pymoo.util.dominator import Dominator\n",
    "\n",
    "\n",
    "problem = get_problem(\"zdt1\", n_var = 5)\n",
    "plot(problem.pareto_front())\n",
    "\n",
    "dim = problem.n_var\n",
    "num_obj = problem.n_obj\n",
    "num_constr = problem.n_constr"
   ]
  },
  {
   "cell_type": "markdown",
   "metadata": {},
   "source": [
    "We define a wrapper for our BO algorithm, the wrapper function takes in a `pd.DataFrame` and output an `np.ndarray` where left columns are objectives and constraint values are in right columns."
   ]
  },
  {
   "cell_type": "code",
   "execution_count": 2,
   "metadata": {},
   "outputs": [],
   "source": [
    "def obj(param : pd.DataFrame) -> np.ndarray:\n",
    "    names = ['x' + str(i) for i in range(problem.n_var)]\n",
    "    x   = param[names].values\n",
    "    out = {}\n",
    "    problem._evaluate(x,out)\n",
    "    o = out['F'].reshape(x.shape[0], num_obj)\n",
    "    if num_constr > 0:\n",
    "        c = out['G'].reshape(x.shape[0], num_constr)\n",
    "    else:\n",
    "        c = np.zeros((x.shape[0],0))\n",
    "    return np.hstack([o,c])\n",
    "\n",
    "def extract_pf(points : np.ndarray) -> np.ndarray:\n",
    "    dom_matrix = Dominator().calc_domination_matrix(points,None)\n",
    "    is_optimal = (dom_matrix >= 0).all(axis = 1)\n",
    "    return points[is_optimal]"
   ]
  },
  {
   "cell_type": "markdown",
   "metadata": {},
   "source": [
    "## Design space"
   ]
  },
  {
   "cell_type": "code",
   "execution_count": 3,
   "metadata": {},
   "outputs": [
    {
     "data": {
      "text/html": [
       "<div>\n",
       "<style scoped>\n",
       "    .dataframe tbody tr th:only-of-type {\n",
       "        vertical-align: middle;\n",
       "    }\n",
       "\n",
       "    .dataframe tbody tr th {\n",
       "        vertical-align: top;\n",
       "    }\n",
       "\n",
       "    .dataframe thead th {\n",
       "        text-align: right;\n",
       "    }\n",
       "</style>\n",
       "<table border=\"1\" class=\"dataframe\">\n",
       "  <thead>\n",
       "    <tr style=\"text-align: right;\">\n",
       "      <th></th>\n",
       "      <th>x0</th>\n",
       "      <th>x1</th>\n",
       "      <th>x2</th>\n",
       "      <th>x3</th>\n",
       "      <th>x4</th>\n",
       "    </tr>\n",
       "  </thead>\n",
       "  <tbody>\n",
       "    <tr>\n",
       "      <th>0</th>\n",
       "      <td>0.248171</td>\n",
       "      <td>0.632608</td>\n",
       "      <td>0.240098</td>\n",
       "      <td>0.490050</td>\n",
       "      <td>0.732430</td>\n",
       "    </tr>\n",
       "    <tr>\n",
       "      <th>1</th>\n",
       "      <td>0.931607</td>\n",
       "      <td>0.034736</td>\n",
       "      <td>0.701038</td>\n",
       "      <td>0.516294</td>\n",
       "      <td>0.121251</td>\n",
       "    </tr>\n",
       "    <tr>\n",
       "      <th>2</th>\n",
       "      <td>0.645922</td>\n",
       "      <td>0.065483</td>\n",
       "      <td>0.469201</td>\n",
       "      <td>0.127420</td>\n",
       "      <td>0.123271</td>\n",
       "    </tr>\n",
       "    <tr>\n",
       "      <th>3</th>\n",
       "      <td>0.160319</td>\n",
       "      <td>0.797957</td>\n",
       "      <td>0.901810</td>\n",
       "      <td>0.912018</td>\n",
       "      <td>0.235120</td>\n",
       "    </tr>\n",
       "    <tr>\n",
       "      <th>4</th>\n",
       "      <td>0.188969</td>\n",
       "      <td>0.337747</td>\n",
       "      <td>0.181045</td>\n",
       "      <td>0.068357</td>\n",
       "      <td>0.539323</td>\n",
       "    </tr>\n",
       "  </tbody>\n",
       "</table>\n",
       "</div>"
      ],
      "text/plain": [
       "         x0        x1        x2        x3        x4\n",
       "0  0.248171  0.632608  0.240098  0.490050  0.732430\n",
       "1  0.931607  0.034736  0.701038  0.516294  0.121251\n",
       "2  0.645922  0.065483  0.469201  0.127420  0.123271\n",
       "3  0.160319  0.797957  0.901810  0.912018  0.235120\n",
       "4  0.188969  0.337747  0.181045  0.068357  0.539323"
      ]
     },
     "execution_count": 3,
     "metadata": {},
     "output_type": "execute_result"
    }
   ],
   "source": [
    "from hebo.design_space.design_space import DesignSpace\n",
    "\n",
    "lb,ub  = problem.bounds()\n",
    "params = [{'name' : 'x' + str(i), 'type' : 'num', 'lb' : lb[i], 'ub' : ub[i]} for i in range(dim)]\n",
    "space  = DesignSpace().parse(params)\n",
    "space.sample(5)"
   ]
  },
  {
   "cell_type": "markdown",
   "metadata": {},
   "source": [
    "## Bayesian optimisation\n",
    "\n",
    "The `GeneralBO` class can be used to perform multi-objective bayesian optimisation"
   ]
  },
  {
   "cell_type": "code",
   "execution_count": 9,
   "metadata": {},
   "outputs": [],
   "source": [
    "from hebo.optimizers.general import GeneralBO\n",
    "conf = {}\n",
    "conf['num_hiddens'] = 64\n",
    "conf['num_layers'] = 2\n",
    "conf['output_noise'] = False\n",
    "conf['rand_prior'] = True\n",
    "conf['verbose'] = False\n",
    "conf['l1'] = 3e-3\n",
    "conf['lr'] = 3e-2\n",
    "conf['num_epochs'] = 100\n",
    "opt = GeneralBO(space, num_obj, num_constr, model_conf = conf)\n",
    "for i in range(50):\n",
    "    rec = opt.suggest(n_suggestions=4)\n",
    "    opt.observe(rec, obj(rec))"
   ]
  },
  {
   "cell_type": "markdown",
   "metadata": {},
   "source": [
    "We'll plot the Pareto front given by BO algorithm, and compare it with random search, we can see that BO gives much better PF than random search"
   ]
  },
  {
   "cell_type": "code",
   "execution_count": 10,
   "metadata": {},
   "outputs": [
    {
     "data": {
      "text/plain": [
       "<matplotlib.legend.Legend at 0x29010f9d308>"
      ]
     },
     "execution_count": 10,
     "metadata": {},
     "output_type": "execute_result"
    },
    {
     "data": {
      "image/png": "[encoded data removed]",
      "text/plain": [
       "<Figure size 432x288 with 1 Axes>"
      ]
     },
     "metadata": {
      "needs_background": "light"
     },
     "output_type": "display_data"
    }
   ],
   "source": [
    "feasible_y = extract_pf(opt.y)\n",
    "rand_y     = extract_pf(obj(space.sample(opt.y.shape[0])))\n",
    "plt.plot(feasible_y[:,0], feasible_y[:,1], 'x', color = 'r', label = 'BO')\n",
    "plt.plot(rand_y[:,0], rand_y[:,1], 'x', color = 'b', label = 'Rand')\n",
    "plt.title('Number of Pareto optimal points from BO: %d' % feasible_y.shape[0])\n",
    "plt.legend()"
   ]
  },
  {
   "cell_type": "markdown",
   "metadata": {},
   "source": [
    "## Model accuracy checking"
   ]
  },
  {
   "cell_type": "code",
   "execution_count": 7,
   "metadata": {},
   "outputs": [
    {
     "data": {
      "text/plain": [
       "[<matplotlib.lines.Line2D at 0x29010eeb488>]"
      ]
     },
     "execution_count": 7,
     "metadata": {},
     "output_type": "execute_result"
    },
    {
     "data": {
      "image/png": "[encoded data removed]",
      "text/plain": [
       "<Figure size 432x288 with 1 Axes>"
      ]
     },
     "metadata": {
      "needs_background": "light"
     },
     "output_type": "display_data"
    }
   ],
   "source": [
    "params = space.sample(1000)\n",
    "values = obj(params)\n",
    "with torch.no_grad():\n",
    "    py,ps2 = opt.model.predict(*space.transform(params))\n",
    "plt.plot(values[:,1], py[:,1], 'x')\n",
    "plt.plot(values[:,1], values[:,1])"
   ]
  },
  {
   "cell_type": "markdown",
   "metadata": {},
   "source": [
    "## Copyright statment\n",
    "\n",
    "Copyright (C) 2020. Huawei Technologies Co., Ltd. All rights reserved.\n",
    "\n",
    "This program is free software; you can redistribute it and/or modify it under\n",
    "the terms of the MIT license.\n",
    "\n",
    "This program is distributed in the hope that it will be useful, but WITHOUT ANY\n",
    "WARRANTY; without even the implied warranty of MERCHANTABILITY or FITNESS FOR A\n",
    "PARTICULAR PURPOSE. See the MIT License for more details."
   ]
  }
 ],
 "metadata": {
  "kernelspec": {
   "display_name": "Python 3",
   "language": "python",
   "name": "python3"
  },
  "language_info": {
   "codemirror_mode": {
    "name": "ipython",
    "version": 3
   },
   "file_extension": ".py",
   "mimetype": "text/x-python",
   "name": "python",
   "nbconvert_exporter": "python",
   "pygments_lexer": "ipython3",
   "version": "3.7.6"
  }
 },
 "nbformat": 4,
 "nbformat_minor": 4
}
